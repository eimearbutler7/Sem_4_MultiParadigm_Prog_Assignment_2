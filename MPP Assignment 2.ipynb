{
 "cells": [
  {
   "cell_type": "markdown",
   "metadata": {},
   "source": [
    "# MultiParadigm Programming Assignment 2\n",
    "\n",
    "### Eimear Butler G00364802 Dec 2019 (Dr. Dominic Carr)"
   ]
  },
  {
   "cell_type": "markdown",
   "metadata": {},
   "source": [
    "### Task:\n",
    "For each of the following write a functional, recursive, function in Python to accomplish the task. Marks will be award for correct solutions and for comments explaining how the function works.\n",
    "\n",
    "NOTE: Itterative methods were only included for my reference when working through the task."
   ]
  },
  {
   "cell_type": "markdown",
   "metadata": {},
   "source": [
    "### 1. Sum of an Array: Given an array of numbers return it’s sum (all the numbers added together)."
   ]
  },
  {
   "cell_type": "code",
   "execution_count": 49,
   "metadata": {},
   "outputs": [
    {
     "name": "stdout",
     "output_type": "stream",
     "text": [
      "15\n"
     ]
    },
    {
     "data": {
      "text/plain": [
       "15"
      ]
     },
     "execution_count": 49,
     "metadata": {},
     "output_type": "execute_result"
    }
   ],
   "source": [
    "array1 = [1, 2, 3, 4, 5]\n",
    "\n",
    "#ITTERATIVE METHOD\n",
    "def sum_arr(arr):\n",
    "    i = 0\n",
    "    for obj in arr:\n",
    "        i = i + obj\n",
    "    print(i)\n",
    "        \n",
    "sum_arr(array1)\n",
    "\n",
    "\n",
    "#RECURSIVE METHOD\n",
    "def sum_array(arr):              \n",
    "    if len(arr)==0:              #create basecase for when an array of length 0 is fed into the function...\n",
    "        return 0                 #instruct function to return 0 (not affecting the overall sum) and end the function\n",
    "    else:\n",
    "        return arr[0] + sum_array(arr[1:])  #otherwise, return first element in array + feed the rest of the elements (i.e. arr without the element that originally was at position 0) back into the function (recursively). In this case, the function will end when it reaches the end of the array. \n",
    "                                            #second time the function is run arr[1] is now \"moved up\" to become arr[0] and so on... \n",
    "sum_array(array1)"
   ]
  },
  {
   "cell_type": "markdown",
   "metadata": {},
   "source": [
    "### 2. Product of an Array: Given an array of numbers return it’s product (all the numbers multiplied together)."
   ]
  },
  {
   "cell_type": "code",
   "execution_count": 50,
   "metadata": {},
   "outputs": [
    {
     "name": "stdout",
     "output_type": "stream",
     "text": [
      "120\n"
     ]
    },
    {
     "data": {
      "text/plain": [
       "120"
      ]
     },
     "execution_count": 50,
     "metadata": {},
     "output_type": "execute_result"
    }
   ],
   "source": [
    "array1 = [1, 2, 3, 4, 5]\n",
    "\n",
    "#ITTERATIVE METHOD\n",
    "def multi_arr(arr):\n",
    "    i = 1\n",
    "    for obj in arr:\n",
    "        i = i * obj\n",
    "    print(i)\n",
    "        \n",
    "multi_arr(array1)\n",
    "\n",
    "\n",
    "#RECURSIVE METHOD\n",
    "def multi_array(arr):\n",
    "    if len(arr)==1:               #create basecase for when an array of length 1 is fed into the function...\n",
    "        return arr[0]             #instruct function to multiply by that one element only and end the function\n",
    "    return multi_array([arr[0]]) * multi_array(arr[1:])    #otherwise, return first element in array * feed the rest of the elements (i.e. arr without the element that originally was at position 0) back into the function (recursively). In this case, the function will end when it reaches the end of the array. \n",
    "                                                           #second time the function is run arr[1] is now \"moved up\" to become arr[0] and so on... \n",
    "\n",
    "\n",
    "multi_array(array1)"
   ]
  },
  {
   "cell_type": "markdown",
   "metadata": {},
   "source": [
    "### 3. Remove all odd numbers: Given an array of numbers return an array with all the odd numbers removed."
   ]
  },
  {
   "cell_type": "code",
   "execution_count": 51,
   "metadata": {},
   "outputs": [
    {
     "name": "stdout",
     "output_type": "stream",
     "text": [
      "[2, 4]\n"
     ]
    },
    {
     "data": {
      "text/plain": [
       "[2, 4]"
      ]
     },
     "execution_count": 51,
     "metadata": {},
     "output_type": "execute_result"
    }
   ],
   "source": [
    "#ITTERATIVE METHOD\n",
    "array2 = []\n",
    "\n",
    "def remove_odd(arr):\n",
    "    for obj in arr:\n",
    "        if obj%2 == 0: \n",
    "            array2.append(obj)\n",
    "        \n",
    "remove_odd(array1)\n",
    "print(array2)\n",
    "\n",
    "#RECURSIVE METHOD\n",
    "def remove_odds(arr):\n",
    "    if not arr:                 # \"not\" returns booleon, so in this case, if array is empty, an empty array is returned invoking the basecase.  \n",
    "        return []\n",
    "    if arr[0] % 2 == 0:         # however if the first element is divisible by 2...\n",
    "        return [arr[0]] + remove_odds(arr[1:])  # return the element and feed the array elements at position 1 onwards into the function again (recursively). \n",
    "    return remove_odds(arr[1:])                 # if it is not evenly divisible by 2, continue with feed the array elements at position 1 onwards into the function again (recursively).\n",
    "\n",
    "remove_odds(array1)"
   ]
  },
  {
   "cell_type": "markdown",
   "metadata": {},
   "source": [
    "### 4. Remove all even numbers: Given an array of numbers return an array with all the even numbers removed."
   ]
  },
  {
   "cell_type": "code",
   "execution_count": 52,
   "metadata": {},
   "outputs": [
    {
     "name": "stdout",
     "output_type": "stream",
     "text": [
      "[1, 3, 5]\n"
     ]
    },
    {
     "data": {
      "text/plain": [
       "[1, 3, 5]"
      ]
     },
     "execution_count": 52,
     "metadata": {},
     "output_type": "execute_result"
    }
   ],
   "source": [
    "#ITTERATIVE METHOD\n",
    "array3 = []\n",
    "    \n",
    "def remove_odd(arr):\n",
    "    for obj in arr:\n",
    "        if obj%2 == 1: \n",
    "            array3.append(obj)\n",
    "        \n",
    "remove_odd(array1)\n",
    "print(array3)\n",
    "\n",
    "#RECURSIVE METHOD\n",
    "def remove_odds(arr):\n",
    "    if not arr:                   # \"not\" returns booleon, so in this case, if array is not provided an empty set is returned invoking the basecase.  \n",
    "        return []\n",
    "    if arr[0] % 2 == 1:           # however if the first element has a remainder of 1 when divided by 2...\n",
    "        return [arr[0]] + remove_odds(arr[1:]) # return the element and feed the array elements at position 1 onwards into the function again (recursively). \n",
    "    return remove_odds(arr[1:])                 # if it is evenly divisible by 2, continue with feed the array elements at position 1 onwards into the function again (recursively).\n",
    "\n",
    "\n",
    "remove_odds(array1)"
   ]
  },
  {
   "cell_type": "markdown",
   "metadata": {},
   "source": [
    "### 5. Replace a given character with \"*\": Given a string, and a character to replace, return a string where each occurance of the character is replaced with '*'."
   ]
  },
  {
   "cell_type": "code",
   "execution_count": 53,
   "metadata": {},
   "outputs": [
    {
     "name": "stdout",
     "output_type": "stream",
     "text": [
      "['save', '*', 'save', '*']\n"
     ]
    },
    {
     "data": {
      "text/plain": [
       "['save', '*', 'save', '*']"
      ]
     },
     "execution_count": 53,
     "metadata": {},
     "output_type": "execute_result"
    }
   ],
   "source": [
    "#ITTERATIVE METHOD\n",
    "array4 = ['save', 'replace', 'save', 'replace']\n",
    "\n",
    "def replace_str(arr):\n",
    "    for n, i in enumerate(arr):\n",
    "        if i == 'replace':\n",
    "            arr[n] = '*'\n",
    "        \n",
    "replace_str(array4)\n",
    "print(array4)\n",
    "\n",
    "#RECURSIVE METHOD\n",
    "def replace_string(arr):\n",
    "    if arr==[]:         # if the array is empty, the empty array is returned and the basecase is invoked to end the function\n",
    "        return arr\n",
    "    elif arr[0] == 'replace':  # however if the first element is equel to \"replace\"..\n",
    "        arr[0] = '*'           # change that element to \"*\"\n",
    "    return arr[:1] + replace_string(arr[1:]) # if it is not \"replace\", continue with feed the array elements at position 1 onwards into the function again (recursively).\n",
    "\n",
    "\n",
    "replace_string(array4)"
   ]
  },
  {
   "cell_type": "markdown",
   "metadata": {},
   "source": [
    "### 6. Find index in array for item: Given an array, and an element to search for return the index of the element in the array or -1 if the element is not present in the array"
   ]
  },
  {
   "cell_type": "code",
   "execution_count": 54,
   "metadata": {
    "scrolled": true
   },
   "outputs": [
    {
     "name": "stdout",
     "output_type": "stream",
     "text": [
      "Find 5 in array1: 4\n",
      "\n",
      "Not in this List\n",
      "Find 5 in array2: None\n"
     ]
    }
   ],
   "source": [
    "\n",
    "#RESURSIVE METHOD\n",
    "def find_index(arr,find, index=0): # for the first time I have a function accepting on 3 parameters, array, owhat I want to find and the index at which to start with\n",
    "    try:\n",
    "        if arr[index] == find: # if the element at the defined index is equal to the element we are trying to find, return the index location \n",
    "            return index\n",
    "    except IndexError:         # using the IndexError that will be invoked once we move outside of the array range providing a route for the function where no such element is found...\n",
    "        return print('Not in this List')            #print \n",
    "\n",
    "    return find_index(arr,find,index+1) # increase index when the function is run again (recursively) to check each element at each index, basecase is retuned at the end of the list\n",
    "        \n",
    "print(\"Find 5 in array1:\", find_index(array1, 5))\n",
    "print(\"\")\n",
    "print(\"Find 5 in array2:\", find_index(array2, 5))"
   ]
  },
  {
   "cell_type": "markdown",
   "metadata": {},
   "source": [
    "### 7. Sum of Digits: Given a whole number such as 23, return the sum of the digits in the number i.e. 2 + 3 = 5. For this would be useful to convert the number to a string then break it apart into digits."
   ]
  },
  {
   "cell_type": "code",
   "execution_count": 55,
   "metadata": {},
   "outputs": [
    {
     "data": {
      "text/plain": [
       "15"
      ]
     },
     "execution_count": 55,
     "metadata": {},
     "output_type": "execute_result"
    }
   ],
   "source": [
    "whole_number = 53421\n",
    "\n",
    "\n",
    "\n",
    "#RECURSIVE METHOD\n",
    "def sum_wholeNo(no):\n",
    "    if no == str(no):  #if the input (number) is a string - this will not be the case on the first instance of this function\n",
    "        if len(no)==0:  # and if the length of that string is 0\n",
    "            return 0    # return 0 and end function \n",
    "        else:           # otherwise return the integer version of the single figure number + feed the rest of the elements (i.e. arr without the element that originally was at position 0) back into the function (recursively). In this case, the function will end when it reaches the end of the array. \n",
    "            return int(no[0]) + sum_wholeNo(no[1:]) \n",
    "    elif no == int(no):    # for the first iteration of this function, the number fed into the function is an integer and so follows this route\n",
    "        no1 = str(no)     # here the input is changed to a string and each individual single number is fed back into the function in its new format (recursively)\n",
    "        return sum_wholeNo(no1[0:]) \n",
    "\n",
    "sum_wholeNo(whole_number)"
   ]
  },
  {
   "cell_type": "markdown",
   "metadata": {},
   "source": [
    "### 8. Print an array Given an array of integers prints all the elements one per line. This is a little bit different as there is no need for a ’return’ statement just to print and recurse."
   ]
  },
  {
   "cell_type": "code",
   "execution_count": 56,
   "metadata": {},
   "outputs": [
    {
     "name": "stdout",
     "output_type": "stream",
     "text": [
      "1\n",
      "2\n",
      "3\n",
      "4\n",
      "5\n"
     ]
    }
   ],
   "source": [
    "\n",
    "#RECURSIVE METHOD\n",
    "def print_line(arr):\n",
    "    if len(arr)==0:              #create basecase for when an array of length 0 is fed into the function...\n",
    "        return 0                 #instruct function to end when basecase reached\n",
    "    else:\n",
    "        print(arr[0])            #print the element at index 0\n",
    "        print_line(arr[1:])      #feed the array back into the function (recursively) but this time starting at index 1 (i.e. index 1 becomes index 0)\n",
    "\n",
    "print_line(array1)"
   ]
  },
  {
   "cell_type": "markdown",
   "metadata": {},
   "source": [
    "### 9. Find the minimum element in an array of integers: You can carry some extra information through method arguments such as minimum value."
   ]
  },
  {
   "cell_type": "code",
   "execution_count": 62,
   "metadata": {},
   "outputs": [
    {
     "name": "stdout",
     "output_type": "stream",
     "text": [
      "Minimum of array1: 1\n",
      "Minimum of array5: 14\n"
     ]
    }
   ],
   "source": [
    "array5 = [23, 14, 15, 85]\n",
    "\n",
    "def findMinimum(arr):\n",
    "    if len(arr) == 1:     #create basecase for when an array of length 0 is fed into the function...\n",
    "        return arr[0]     #instruct function to end when basecase reached \n",
    "    else:                 #otherwise, return the minimum element of the array at index 0 and all other indexes in the array reducing the size of the array each time.  \n",
    "        return min(arr[0], findMinimum(arr[1:])) # run function recursively\n",
    "\n",
    "print(\"Minimum of array1:\", findMinimum(array1))\n",
    "\n",
    "print(\"Minimum of array5:\", findMinimum(array5))"
   ]
  },
  {
   "cell_type": "markdown",
   "metadata": {},
   "source": [
    "### 10. Verify the parentheses Given a string: return true if it is a nesting of zero or more pairs of parenthesis, like “(())” or “((()))”."
   ]
  },
  {
   "cell_type": "code",
   "execution_count": 58,
   "metadata": {
    "scrolled": true
   },
   "outputs": [
    {
     "name": "stdout",
     "output_type": "stream",
     "text": [
      "verified\n",
      "verified\n",
      "Not verified\n",
      "Not verified\n",
      "No string here\n",
      "verified\n"
     ]
    }
   ],
   "source": [
    "array6 = [\"()\", \"(())\", \"(()\", \"())\", \"\", \"none\"]\n",
    "array7 = [\"()\", \"\", \"none\", \"((\", \"(\", \"(()\"]\n",
    "\n",
    "\n",
    "def brackets(STR, n):\n",
    "#    print('IN')\n",
    "    if n>len(STR)-1:      # create basecase for the length of the array i.e. by index positions \n",
    "#        print('END')\n",
    "        return []\n",
    "    \n",
    "    elif len(STR[n]) == 0:         # create \"if\" condition for where no string is present \n",
    "        print('No string here')\n",
    "        brackets(STR, n+1)         # increase index position and rerun function (recursively)\n",
    "        \n",
    "    elif \"(\" or \")\" in STR[n]:             # create \"if\" condition for entries that contain brackets  \n",
    "        opening = STR[n].count(\"(\")       #count how many of each bracket there is\n",
    "        closing = STR[n].count(\")\")\n",
    "        \n",
    "        if opening == closing:         # if they are equel, print \"verified\"\n",
    "            print(\"verified\")           \n",
    "            brackets(STR, n+1)         # rerun the function for the next index position (recursively)\n",
    "        \n",
    "        elif opening != closing:       # fi they are not equel print \"not verified\"\n",
    "            print('Not verified')\n",
    "            brackets(STR, n+1)         # rerun the function for the next index position (recursively)\n",
    "    \n",
    "    else:\n",
    "        print('no brackets here')      # if no conditions are met, pritn \"no brackets here\"\n",
    "        brackets(STR, n+1)              # rerun the function for the next index position (recursively)\n",
    "\n",
    "brackets(array6, 0)"
   ]
  },
  {
   "cell_type": "code",
   "execution_count": 59,
   "metadata": {},
   "outputs": [
    {
     "name": "stdout",
     "output_type": "stream",
     "text": [
      "verified\n",
      "No string here\n",
      "verified\n",
      "Not verified\n",
      "Not verified\n",
      "Not verified\n"
     ]
    }
   ],
   "source": [
    "brackets(array7, 0)"
   ]
  },
  {
   "cell_type": "markdown",
   "metadata": {},
   "source": [
    "# END"
   ]
  }
 ],
 "metadata": {
  "kernelspec": {
   "display_name": "Python 3",
   "language": "python",
   "name": "python3"
  },
  "language_info": {
   "codemirror_mode": {
    "name": "ipython",
    "version": 3
   },
   "file_extension": ".py",
   "mimetype": "text/x-python",
   "name": "python",
   "nbconvert_exporter": "python",
   "pygments_lexer": "ipython3",
   "version": "3.7.4"
  }
 },
 "nbformat": 4,
 "nbformat_minor": 2
}
