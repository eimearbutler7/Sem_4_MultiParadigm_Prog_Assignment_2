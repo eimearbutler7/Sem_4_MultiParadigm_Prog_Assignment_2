{
 "cells": [
  {
   "cell_type": "markdown",
   "metadata": {},
   "source": [
    "# MultiParadigm Programming Assignment 2\n",
    "\n",
    "### Eimear Butler G00364802 Dec 2019 (Dr. Dominic Carr)"
   ]
  },
  {
   "cell_type": "markdown",
   "metadata": {},
   "source": [
    "### Task:\n",
    "For each of the following write a functional, recursive, function in Python to accomplish\n",
    "the task. Marks will b e award for correct solutions and for comments explaining how the\n",
    "function works."
   ]
  },
  {
   "cell_type": "markdown",
   "metadata": {},
   "source": [
    "#### NOTES:"
   ]
  },
  {
   "cell_type": "markdown",
   "metadata": {},
   "source": [
    "Declarative Programming: method of programming specifying the results but not how those results are achieved or calculated e.g. SQL - control flow is implicid not specified by the programmer - contrast to procedural programming"
   ]
  },
  {
   "cell_type": "code",
   "execution_count": 30,
   "metadata": {},
   "outputs": [],
   "source": [
    "houses = [\"Eric's house\", \"Kenny's house\", \"Kyle's house\", \"Stan's house\"]\n",
    "\n",
    "# Each function call represents an elf doing his work \n",
    "def deliver_presents_recursively(houses):\n",
    "    # Worker elf doing his work\n",
    "    if len(houses) == 1:\n",
    "        house = houses[0]\n",
    "        print(\"Delivering presents to\", house)\n",
    "\n",
    "    # Manager elf doing his work\n",
    "    else:\n",
    "        mid = len(houses) // 2\n",
    "        first_half = houses[:mid]\n",
    "        second_half = houses[mid:]\n",
    "\n",
    "        # Divides his work among two elves\n",
    "        deliver_presents_recursively(first_half)\n",
    "        deliver_presents_recursively(second_half)\n",
    "\n",
    "deliver_presents_recursively(houses)"
   ]
  },
  {
   "cell_type": "code",
   "execution_count": null,
   "metadata": {},
   "outputs": [],
   "source": [
    "\n",
    "def factorial_recursive(arr):\n",
    "    # Base case: 1! = 1\n",
    "    if arr == 1:\n",
    "        return 1\n",
    "\n",
    "    # Recursive case: n! = n * (n-1)!\n",
    "    else:\n",
    "        return arr * factorial_recursive(arr-1)"
   ]
  },
  {
   "cell_type": "markdown",
   "metadata": {},
   "source": [
    "1. Sum of an array Given an array of numbers return it’s sum (all the numbers added\n",
    "together)."
   ]
  },
  {
   "cell_type": "code",
   "execution_count": 95,
   "metadata": {},
   "outputs": [
    {
     "name": "stdout",
     "output_type": "stream",
     "text": [
      "15\n"
     ]
    },
    {
     "data": {
      "text/plain": [
       "15"
      ]
     },
     "execution_count": 95,
     "metadata": {},
     "output_type": "execute_result"
    }
   ],
   "source": [
    "array1 = [1, 2, 3, 4, 5]\n",
    "\n",
    "#ITTERATIVE METHOD\n",
    "def sum_arr(arr):\n",
    "    i = 0\n",
    "    for obj in arr:\n",
    "        i = i + obj\n",
    "    print(i)\n",
    "        \n",
    "sum_arr(array1)\n",
    "\n",
    "\n",
    "#RECURSIVE METHOD\n",
    "def sum_array(arr):\n",
    "    if len(arr)==0:\n",
    "        return 0\n",
    "    else:\n",
    "        return arr[0] + sum_array(arr[1:]) \n",
    "\n",
    "sum_array(array1)"
   ]
  },
  {
   "cell_type": "markdown",
   "metadata": {},
   "source": [
    "2. Product of an array Given an array of numbers return it’s product (all the numbers\n",
    "multiplied together)."
   ]
  },
  {
   "cell_type": "code",
   "execution_count": 50,
   "metadata": {},
   "outputs": [
    {
     "name": "stdout",
     "output_type": "stream",
     "text": [
      "120\n"
     ]
    },
    {
     "data": {
      "text/plain": [
       "120"
      ]
     },
     "execution_count": 50,
     "metadata": {},
     "output_type": "execute_result"
    }
   ],
   "source": [
    "array1 = [1, 2, 3, 4, 5]\n",
    "\n",
    "#ITTERATIVE METHOD\n",
    "def multi_arr(arr):\n",
    "    i = 1\n",
    "    for obj in arr:\n",
    "        i = i * obj\n",
    "    print(i)\n",
    "        \n",
    "multi_arr(array1)\n",
    "\n",
    "\n",
    "#RECURSIVE METHOD\n",
    "def multi_array(arr):\n",
    "    if len(arr)==1:\n",
    "        return arr[0]\n",
    "    return multi_array([arr[0]]) * multi_array(arr[1:])\n",
    "\n",
    "\n",
    "multi_array(array1)"
   ]
  },
  {
   "cell_type": "markdown",
   "metadata": {},
   "source": [
    "3. Remove all odd numbers Given an array of numbers return an array with all the\n",
    "odd numbers removed."
   ]
  },
  {
   "cell_type": "code",
   "execution_count": 56,
   "metadata": {},
   "outputs": [
    {
     "name": "stdout",
     "output_type": "stream",
     "text": [
      "[2, 4]\n"
     ]
    },
    {
     "data": {
      "text/plain": [
       "[2, 4]"
      ]
     },
     "execution_count": 56,
     "metadata": {},
     "output_type": "execute_result"
    }
   ],
   "source": [
    "#ITTERATIVE METHOD\n",
    "array2 = []\n",
    "\n",
    "def remove_odd(arr):\n",
    "    for obj in arr:\n",
    "        if obj%2 == 0: \n",
    "            array2.append(obj)\n",
    "        \n",
    "remove_odd(array1)\n",
    "print(array2)\n",
    "\n",
    "#RECURSIVE METHOD\n",
    "def remove_odds(arr):\n",
    "    if not arr:\n",
    "        return []\n",
    "    if arr[0] % 2 == 0:\n",
    "        return [arr[0]] + remove_odds(arr[1:])\n",
    "    return remove_odds(arr[1:])\n",
    "\n",
    "remove_odds(array1)"
   ]
  },
  {
   "cell_type": "markdown",
   "metadata": {},
   "source": [
    "4. Remove all even numbers Given an array of numbers return an array with all the\n",
    "even numbers removed."
   ]
  },
  {
   "cell_type": "code",
   "execution_count": 166,
   "metadata": {},
   "outputs": [
    {
     "name": "stdout",
     "output_type": "stream",
     "text": [
      "[1, 3, 5]\n"
     ]
    },
    {
     "data": {
      "text/plain": [
       "[1, 3, 5]"
      ]
     },
     "execution_count": 166,
     "metadata": {},
     "output_type": "execute_result"
    }
   ],
   "source": [
    "#ITTERATIVE METHOD\n",
    "array3 = []\n",
    "    \n",
    "def remove_odd(arr):\n",
    "    for obj in arr:\n",
    "        if obj%2 == 1: \n",
    "            array3.append(obj)\n",
    "        \n",
    "remove_odd(array1)\n",
    "print(array3)\n",
    "\n",
    "#RECURSIVE METHOD\n",
    "def remove_odds(arr):\n",
    "    if not arr:\n",
    "        return []\n",
    "    if arr[0] % 2 == 1:\n",
    "        return [arr[0]] + remove_odds(arr[1:])\n",
    "    return remove_odds(arr[1:])\n",
    "\n",
    "remove_odds(array1)"
   ]
  },
  {
   "cell_type": "markdown",
   "metadata": {},
   "source": [
    "5. Replace a given character with \"*\" Given a string, and a character to replace, return a string where each occurance of the character is replaced with '*'."
   ]
  },
  {
   "cell_type": "code",
   "execution_count": 182,
   "metadata": {},
   "outputs": [
    {
     "name": "stdout",
     "output_type": "stream",
     "text": [
      "['save', '*', 'save', '*']\n"
     ]
    },
    {
     "data": {
      "text/plain": [
       "['save', '*', 'save', '*']"
      ]
     },
     "execution_count": 182,
     "metadata": {},
     "output_type": "execute_result"
    }
   ],
   "source": [
    "#ITTERATIVE METHOD\n",
    "array4 = ['save', 'replace', 'save', 'replace']\n",
    "\n",
    "def replace_str(arr):\n",
    "    for n, i in enumerate(arr):\n",
    "        if i == 'replace':\n",
    "            arr[n] = '*'\n",
    "        \n",
    "replace_str(array4)\n",
    "print(array4)\n",
    "\n",
    "#RECURSIVE METHOD\n",
    "def replace_string(arr):\n",
    "    #base case 1: thelist is empty\n",
    "    if arr==[]:\n",
    "        return arr#case 1: the first character is a\n",
    "    elif arr[0] == 'replace':\n",
    "        arr[0] = '*'\n",
    "    return arr[:1] + replace_string(arr[1:])\n",
    "\n",
    "\n",
    "replace_string(array4)"
   ]
  },
  {
   "cell_type": "markdown",
   "metadata": {},
   "source": [
    "6. Find index in array for item. Given an array, and an element to search for return\n",
    "the index of the element in the array or -1 if the element is not present in the array"
   ]
  },
  {
   "cell_type": "code",
   "execution_count": 168,
   "metadata": {
    "scrolled": true
   },
   "outputs": [
    {
     "name": "stdout",
     "output_type": "stream",
     "text": [
      "4 2\n"
     ]
    }
   ],
   "source": [
    "\n",
    "\n",
    "\n",
    "\n",
    "\n",
    "#RESURSIVE METHOD\n",
    "def find_index(arr,find, index=0):\n",
    "    try:\n",
    "        if arr[index] == find:\n",
    "            return index\n",
    "    except IndexError:\n",
    "        return print('Not in this List')            \n",
    "\n",
    "    return find_index(arr,find,index+1)\n",
    "        \n",
    "print(find_index(array1, 5), find_index(array2, 5))"
   ]
  },
  {
   "cell_type": "markdown",
   "metadata": {},
   "source": [
    "7. Sum of Digits Given a whole number such as 23, return the sum of the digits in the number i.e. 2 + 3 = 5. For this would be useful to convert the number to a string then break it apart into digits."
   ]
  },
  {
   "cell_type": "code",
   "execution_count": 159,
   "metadata": {},
   "outputs": [
    {
     "data": {
      "text/plain": [
       "15"
      ]
     },
     "execution_count": 159,
     "metadata": {},
     "output_type": "execute_result"
    }
   ],
   "source": [
    "whole_number = 53421\n",
    "\n",
    "\n",
    "\n",
    "\n",
    "#RECURSIVE METHOD\n",
    "def sum_wholeNo(no):\n",
    "    if no == str(no):\n",
    "        if len(no)==0:\n",
    "            return 0\n",
    "        else: \n",
    "            #print('string')\n",
    "            return int(no[0]) + sum_array(no[1:])\n",
    "    elif no == int(no):    \n",
    "        #print('int')\n",
    "        no1 = str(no)\n",
    "        #print(no1[0:])\n",
    "        return sum_array(no1[0:]) \n",
    "\n",
    "sum_wholeNo(whole_number)"
   ]
  },
  {
   "cell_type": "markdown",
   "metadata": {},
   "source": [
    "8. Print an array Given an array of integers prints all the elements one per line. This\n",
    "is a little bit different as there is no need for a ’return’ statement just to print and\n",
    "recurse."
   ]
  },
  {
   "cell_type": "code",
   "execution_count": 160,
   "metadata": {},
   "outputs": [
    {
     "name": "stdout",
     "output_type": "stream",
     "text": [
      "1\n",
      "2\n",
      "3\n",
      "4\n",
      "5\n"
     ]
    }
   ],
   "source": [
    "\n",
    "\n",
    "\n",
    "#RECURSIVE METHOD\n",
    "def print_line(arr):\n",
    "    if len(arr)==0:\n",
    "        return 0\n",
    "    else:\n",
    "        print(arr[0])\n",
    "        print_line(arr[1:]) \n",
    "\n",
    "print_line(array1)"
   ]
  },
  {
   "cell_type": "markdown",
   "metadata": {},
   "source": [
    "9. Find the minimum element in an array of integers. You can carry some extra\n",
    "information through method arguments such as minimum value."
   ]
  },
  {
   "cell_type": "code",
   "execution_count": 174,
   "metadata": {},
   "outputs": [
    {
     "name": "stdout",
     "output_type": "stream",
     "text": [
      "1 14\n"
     ]
    }
   ],
   "source": [
    "array5 = [23, 14, 15, 85]\n",
    "\n",
    "def findMinimum(l):\n",
    "    if len(l) == 1:\n",
    "        return l[0]\n",
    "\n",
    "    else:\n",
    "        return min(l[0], findMinimum(l[1:]))\n",
    "\n",
    "print(findMinimum(array1), findMinimum(array5))"
   ]
  },
  {
   "cell_type": "markdown",
   "metadata": {},
   "source": [
    "10. Verify the parentheses Given a string, return true if it is a nesting of zero or more pairs of parenthesis, like “(())” or “((()))”."
   ]
  },
  {
   "cell_type": "code",
   "execution_count": 201,
   "metadata": {},
   "outputs": [
    {
     "name": "stdout",
     "output_type": "stream",
     "text": [
      "IN\n",
      "IN\n",
      "IN\n",
      "No string here\n",
      "IN\n",
      "IN\n",
      "END\n",
      "Route\n",
      "verified\n",
      "IN\n",
      "END\n",
      "Route\n",
      "Not verified\n",
      "IN\n",
      "No string here\n",
      "IN\n",
      "IN\n",
      "END\n",
      "Route\n",
      "verified\n",
      "IN\n",
      "END\n",
      "Route\n",
      "Not verified\n",
      "IN\n",
      "IN\n",
      "No string here\n",
      "IN\n",
      "IN\n",
      "END\n",
      "Route\n",
      "verified\n",
      "IN\n",
      "END\n",
      "Route\n",
      "Not verified\n",
      "IN\n",
      "No string here\n",
      "IN\n",
      "IN\n",
      "END\n",
      "Route\n",
      "verified\n",
      "IN\n",
      "END\n"
     ]
    }
   ],
   "source": [
    "array6 = [\"()\", \"(())\", \"(()\", \"())\", \"\", \"none\"]\n",
    "\n",
    "def brackets(STR, n):\n",
    "    print('IN')\n",
    "    if n>len(STR)-1:\n",
    "        return print('END')\n",
    "    \n",
    "    elif len(STR[n]) == 0:\n",
    "        print('No string here')\n",
    "        brackets(STR, n+1)\n",
    "        \n",
    "    elif \"(\" or \")\" in STR[n]:\n",
    "        opening = STR[n].find(\"(\")\n",
    "        closing = STR[n].find(\")\")\n",
    "        n = n+1\n",
    "        brackets(STR, n+1)\n",
    "        print('Route')\n",
    "        \n",
    "        if opening == closing:\n",
    "            print(\"verified\")           \n",
    "            brackets(STR, n+1)   \n",
    "        \n",
    "        elif opening != closing: \n",
    "            print('Not verified')\n",
    "            brackets(STR, n+1)\n",
    "    \n",
    "    else:\n",
    "        print('no brackets here')\n",
    "\n",
    "brackets(array6, 0)"
   ]
  },
  {
   "cell_type": "code",
   "execution_count": 197,
   "metadata": {},
   "outputs": [
    {
     "data": {
      "text/plain": [
       "0"
      ]
     },
     "execution_count": 197,
     "metadata": {},
     "output_type": "execute_result"
    }
   ],
   "source": [
    "len(array6[4])"
   ]
  },
  {
   "cell_type": "code",
   "execution_count": null,
   "metadata": {},
   "outputs": [],
   "source": [
    ")"
   ]
  }
 ],
 "metadata": {
  "kernelspec": {
   "display_name": "Python 3",
   "language": "python",
   "name": "python3"
  },
  "language_info": {
   "codemirror_mode": {
    "name": "ipython",
    "version": 3
   },
   "file_extension": ".py",
   "mimetype": "text/x-python",
   "name": "python",
   "nbconvert_exporter": "python",
   "pygments_lexer": "ipython3",
   "version": "3.7.4"
  }
 },
 "nbformat": 4,
 "nbformat_minor": 2
}
